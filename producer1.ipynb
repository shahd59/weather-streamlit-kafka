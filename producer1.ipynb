{
 "cells": [
  {
   "cell_type": "code",
   "execution_count": 3,
   "id": "055d1713-051e-4e9c-8a36-ab8e8248a45c",
   "metadata": {},
   "outputs": [
    {
     "name": "stdout",
     "output_type": "stream",
     "text": [
      "Weather Data Producer Running...\n",
      "Sent data: {'temp': 39.42, 'feels_like': 36.16, 'temp_min': 39.12, 'temp_max': 39.42, 'pressure': 1008, 'humidity': 8, 'sea_level': 1008, 'grnd_level': 1003}\n",
      "Sent data: {'temp': 39.42, 'feels_like': 36.16, 'temp_min': 39.12, 'temp_max': 39.42, 'pressure': 1008, 'humidity': 8, 'sea_level': 1008, 'grnd_level': 1003}\n",
      "Sent data: {'temp': 39.42, 'feels_like': 36.16, 'temp_min': 39.12, 'temp_max': 39.42, 'pressure': 1008, 'humidity': 8, 'sea_level': 1008, 'grnd_level': 1003}\n",
      "Sent data: {'temp': 39.42, 'feels_like': 36.16, 'temp_min': 39.12, 'temp_max': 39.42, 'pressure': 1008, 'humidity': 8, 'sea_level': 1008, 'grnd_level': 1003}\n",
      "Sent data: {'temp': 39.42, 'feels_like': 36.16, 'temp_min': 39.12, 'temp_max': 39.42, 'pressure': 1008, 'humidity': 8, 'sea_level': 1008, 'grnd_level': 1003}\n",
      "Sent data: {'temp': 39.42, 'feels_like': 36.16, 'temp_min': 39.12, 'temp_max': 39.42, 'pressure': 1007, 'humidity': 8, 'sea_level': 1007, 'grnd_level': 1002}\n",
      "Sent data: {'temp': 39.42, 'feels_like': 36.16, 'temp_min': 39.12, 'temp_max': 39.42, 'pressure': 1007, 'humidity': 8, 'sea_level': 1007, 'grnd_level': 1002}\n",
      "Sent data: {'temp': 39.42, 'feels_like': 36.16, 'temp_min': 39.12, 'temp_max': 39.42, 'pressure': 1007, 'humidity': 8, 'sea_level': 1007, 'grnd_level': 1002}\n",
      "Sent data: {'temp': 39.42, 'feels_like': 36.16, 'temp_min': 39.12, 'temp_max': 39.42, 'pressure': 1007, 'humidity': 8, 'sea_level': 1007, 'grnd_level': 1002}\n",
      "Sent data: {'temp': 40.42, 'feels_like': 36.91, 'temp_min': 40.23, 'temp_max': 40.42, 'pressure': 1007, 'humidity': 7, 'sea_level': 1007, 'grnd_level': 1002}\n",
      "Sent data: {'temp': 40.42, 'feels_like': 36.91, 'temp_min': 40.23, 'temp_max': 40.42, 'pressure': 1007, 'humidity': 7, 'sea_level': 1007, 'grnd_level': 1002}\n",
      "Sent data: {'temp': 40.42, 'feels_like': 36.91, 'temp_min': 40.23, 'temp_max': 40.42, 'pressure': 1007, 'humidity': 7, 'sea_level': 1007, 'grnd_level': 1002}\n",
      "Sent data: {'temp': 40.42, 'feels_like': 36.91, 'temp_min': 40.23, 'temp_max': 40.42, 'pressure': 1007, 'humidity': 7, 'sea_level': 1007, 'grnd_level': 1002}\n",
      "Sent data: {'temp': 40.42, 'feels_like': 36.91, 'temp_min': 40.23, 'temp_max': 40.42, 'pressure': 1007, 'humidity': 7, 'sea_level': 1007, 'grnd_level': 1002}\n",
      "Sent data: {'temp': 40.42, 'feels_like': 36.91, 'temp_min': 40.23, 'temp_max': 40.42, 'pressure': 1007, 'humidity': 7, 'sea_level': 1007, 'grnd_level': 1002}\n",
      "Sent data: {'temp': 40.42, 'feels_like': 36.91, 'temp_min': 40.23, 'temp_max': 40.42, 'pressure': 1007, 'humidity': 7, 'sea_level': 1007, 'grnd_level': 1002}\n",
      "Sent data: {'temp': 40.42, 'feels_like': 36.91, 'temp_min': 40.23, 'temp_max': 40.42, 'pressure': 1007, 'humidity': 7, 'sea_level': 1007, 'grnd_level': 1002}\n",
      "Sent data: {'temp': 40.42, 'feels_like': 36.91, 'temp_min': 40.23, 'temp_max': 40.42, 'pressure': 1007, 'humidity': 7, 'sea_level': 1007, 'grnd_level': 1002}\n",
      "Sent data: {'temp': 40.42, 'feels_like': 36.91, 'temp_min': 40.23, 'temp_max': 40.42, 'pressure': 1007, 'humidity': 7, 'sea_level': 1007, 'grnd_level': 1002}\n",
      "Sent data: {'temp': 40.42, 'feels_like': 36.91, 'temp_min': 40.23, 'temp_max': 40.42, 'pressure': 1007, 'humidity': 7, 'sea_level': 1007, 'grnd_level': 1002}\n",
      "Sent data: {'temp': 40.42, 'feels_like': 36.91, 'temp_min': 40.23, 'temp_max': 40.42, 'pressure': 1007, 'humidity': 7, 'sea_level': 1007, 'grnd_level': 1002}\n",
      "Sent data: {'temp': 40.42, 'feels_like': 36.91, 'temp_min': 40.23, 'temp_max': 40.42, 'pressure': 1007, 'humidity': 7, 'sea_level': 1007, 'grnd_level': 1002}\n",
      "Sent data: {'temp': 40.42, 'feels_like': 36.91, 'temp_min': 40.23, 'temp_max': 40.42, 'pressure': 1007, 'humidity': 7, 'sea_level': 1007, 'grnd_level': 1002}\n",
      "Sent data: {'temp': 40.42, 'feels_like': 36.91, 'temp_min': 40.23, 'temp_max': 40.42, 'pressure': 1007, 'humidity': 7, 'sea_level': 1007, 'grnd_level': 1002}\n",
      "Sent data: {'temp': 40.42, 'feels_like': 36.91, 'temp_min': 40.23, 'temp_max': 40.42, 'pressure': 1007, 'humidity': 7, 'sea_level': 1007, 'grnd_level': 1002}\n"
     ]
    },
    {
     "ename": "KeyboardInterrupt",
     "evalue": "",
     "output_type": "error",
     "traceback": [
      "\u001b[1;31m---------------------------------------------------------------------------\u001b[0m",
      "\u001b[1;31mKeyboardInterrupt\u001b[0m                         Traceback (most recent call last)",
      "Cell \u001b[1;32mIn[3], line 34\u001b[0m\n\u001b[0;32m     31\u001b[0m         time\u001b[38;5;241m.\u001b[39msleep(\u001b[38;5;241m30\u001b[39m)  \u001b[38;5;66;03m# Send every 30 seconds\u001b[39;00m\n\u001b[0;32m     33\u001b[0m \u001b[38;5;28;01mif\u001b[39;00m \u001b[38;5;18m__name__\u001b[39m \u001b[38;5;241m==\u001b[39m \u001b[38;5;124m\"\u001b[39m\u001b[38;5;124m__main__\u001b[39m\u001b[38;5;124m\"\u001b[39m:\n\u001b[1;32m---> 34\u001b[0m     main()\n",
      "Cell \u001b[1;32mIn[3], line 31\u001b[0m, in \u001b[0;36mmain\u001b[1;34m()\u001b[0m\n\u001b[0;32m     29\u001b[0m     producer\u001b[38;5;241m.\u001b[39msend(\u001b[38;5;124m'\u001b[39m\u001b[38;5;124mweather-topic\u001b[39m\u001b[38;5;124m'\u001b[39m, data)\n\u001b[0;32m     30\u001b[0m     \u001b[38;5;28mprint\u001b[39m(\u001b[38;5;124mf\u001b[39m\u001b[38;5;124m\"\u001b[39m\u001b[38;5;124mSent data: \u001b[39m\u001b[38;5;132;01m{\u001b[39;00mdata[\u001b[38;5;124m'\u001b[39m\u001b[38;5;124mmain\u001b[39m\u001b[38;5;124m'\u001b[39m]\u001b[38;5;132;01m}\u001b[39;00m\u001b[38;5;124m\"\u001b[39m)\n\u001b[1;32m---> 31\u001b[0m time\u001b[38;5;241m.\u001b[39msleep(\u001b[38;5;241m30\u001b[39m)\n",
      "\u001b[1;31mKeyboardInterrupt\u001b[0m: "
     ]
    }
   ],
   "source": [
    "from kafka import KafkaProducer\n",
    "import requests\n",
    "import json\n",
    "import time\n",
    "\n",
    "def get_weather_data():\n",
    "    API_KEY = \"401d85f8f5bbdc7bb4a8f1020570a998\"  # Replace with your actual API key\n",
    "    CITY = \"Cairo\"\n",
    "    url = f\"http://api.openweathermap.org/data/2.5/weather?q={CITY}&appid={API_KEY}&units=metric\"\n",
    "    \n",
    "    try:\n",
    "        response = requests.get(url)\n",
    "        if response.status_code == 200:\n",
    "            return response.json()\n",
    "    except Exception as e:\n",
    "        print(f\"Error fetching data: {str(e)}\")\n",
    "    return None\n",
    "\n",
    "producer = KafkaProducer(\n",
    "    bootstrap_servers='localhost:9092',\n",
    "    value_serializer=lambda v: json.dumps(v).encode('utf-8')\n",
    ")\n",
    "\n",
    "def main():\n",
    "    print(\"Weather Data Producer Running...\")\n",
    "    while True:\n",
    "        data = get_weather_data()\n",
    "        if data:\n",
    "            producer.send('weather-topic', data)\n",
    "            print(f\"Sent data: {data['main']}\")\n",
    "        time.sleep(30)  # Send every 30 seconds\n",
    "\n",
    "if __name__ == \"__main__\":\n",
    "    main()"
   ]
  },
  {
   "cell_type": "code",
   "execution_count": null,
   "id": "76a0c439-90ce-4ba5-bb4d-94e9317ce822",
   "metadata": {},
   "outputs": [],
   "source": []
  },
  {
   "cell_type": "code",
   "execution_count": null,
   "id": "6829373b-3393-4187-991e-ffaa55506150",
   "metadata": {},
   "outputs": [],
   "source": []
  },
  {
   "cell_type": "code",
   "execution_count": null,
   "id": "ecc3fd0f-b839-4a0d-9e5c-25c9224b60bf",
   "metadata": {},
   "outputs": [],
   "source": []
  }
 ],
 "metadata": {
  "kernelspec": {
   "display_name": "Python 3 (ipykernel)",
   "language": "python",
   "name": "python3"
  },
  "language_info": {
   "codemirror_mode": {
    "name": "ipython",
    "version": 3
   },
   "file_extension": ".py",
   "mimetype": "text/x-python",
   "name": "python",
   "nbconvert_exporter": "python",
   "pygments_lexer": "ipython3",
   "version": "3.12.4"
  }
 },
 "nbformat": 4,
 "nbformat_minor": 5
}
